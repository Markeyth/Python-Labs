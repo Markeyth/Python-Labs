{
 "cells": [
  {
   "cell_type": "markdown",
   "metadata": {},
   "source": [
    "il mio primo programma"
   ]
  },
  {
   "cell_type": "code",
   "execution_count": 25,
   "metadata": {},
   "outputs": [
    {
     "name": "stdout",
     "output_type": "stream",
     "text": [
      "hello, Marco\n"
     ]
    }
   ],
   "source": [
    "print(\"hello, Marco\")\n",
    " "
   ]
  },
  {
   "cell_type": "markdown",
   "metadata": {},
   "source": [
    "VARIABLES"
   ]
  },
  {
   "cell_type": "code",
   "execution_count": 26,
   "metadata": {},
   "outputs": [
    {
     "name": "stdout",
     "output_type": "stream",
     "text": [
      "2\n"
     ]
    }
   ],
   "source": [
    "a = 1\n",
    "# print(a)\n",
    "a=2 \n",
    "print(a)"
   ]
  },
  {
   "cell_type": "markdown",
   "metadata": {},
   "source": [
    "ITERATIONS"
   ]
  },
  {
   "cell_type": "code",
   "execution_count": 27,
   "metadata": {},
   "outputs": [
    {
     "name": "stdout",
     "output_type": "stream",
     "text": [
      "10\n",
      "11\n",
      "12\n",
      "13\n",
      "14\n",
      "15\n",
      "16\n",
      "17\n",
      "18\n",
      "19\n",
      "20\n",
      "21\n",
      "22\n",
      "23\n",
      "24\n",
      "25\n",
      "26\n",
      "27\n",
      "28\n",
      "29\n",
      "30\n",
      "31\n",
      "32\n",
      "33\n",
      "34\n",
      "35\n",
      "36\n",
      "37\n",
      "38\n",
      "39\n",
      "1\n",
      "2\n",
      "31\n",
      "4\n",
      "5\n",
      "31\n"
     ]
    }
   ],
   "source": [
    "for i in range(10, 40):\n",
    "    print(i)\n",
    "numbers = [1, 2, 31, 4, 5]\n",
    "for number in numbers:\n",
    "    print(number)\n",
    "\n",
    "third_elem = numbers[2]\n",
    "print(third_elem)"
   ]
  },
  {
   "cell_type": "markdown",
   "metadata": {},
   "source": [
    "CONDITIONAL STATEMENTS"
   ]
  },
  {
   "cell_type": "code",
   "execution_count": 28,
   "metadata": {},
   "outputs": [
    {
     "name": "stdout",
     "output_type": "stream",
     "text": [
      "il numero è pari\n"
     ]
    }
   ],
   "source": [
    "n = 12\n",
    "q = n//2\n",
    "r = n-q*2\n",
    "\n",
    "if r==0:\n",
    "    print(\"il numero è pari\")\n",
    "else:\n",
    "    print(\"il numero è dispari\")"
   ]
  },
  {
   "cell_type": "code",
   "execution_count": 29,
   "metadata": {},
   "outputs": [
    {
     "name": "stdout",
     "output_type": "stream",
     "text": [
      "il numero è pari\n"
     ]
    }
   ],
   "source": [
    "r = n % 2\n",
    "if r==0:\n",
    "    print(\"il numero è pari\")\n",
    "else:\n",
    "    print(\"il numero è dispari\")"
   ]
  },
  {
   "cell_type": "markdown",
   "metadata": {},
   "source": [
    "giorno 2, variabili composte da più valori"
   ]
  },
  {
   "cell_type": "code",
   "execution_count": 9,
   "metadata": {},
   "outputs": [
    {
     "name": "stdout",
     "output_type": "stream",
     "text": [
      "roma\n",
      "milano\n",
      "napoli\n"
     ]
    }
   ],
   "source": [
    "#pesopersona\n",
    "#peso_persona\n",
    "#_persona_persona\n",
    "#pesopersona\n",
    "#PESOPERSONA\n",
    "#peso-pesopersona\n",
    "\n",
    "\n",
    "#le variabili non devono iniziare con numeri\n",
    "\n",
    "città = [\"roma\", \"milano\", \"napoli\"]\n",
    "x, y, z = città\n",
    "print(x)\n",
    "print(y)\n",
    "print(z)"
   ]
  },
  {
   "cell_type": "markdown",
   "metadata": {},
   "source": [
    "operazioni aritmetiche"
   ]
  },
  {
   "cell_type": "code",
   "execution_count": 90,
   "metadata": {},
   "outputs": [
    {
     "name": "stdout",
     "output_type": "stream",
     "text": [
      "40\n",
      "24\n",
      "256\n",
      "4.0\n",
      "0\n",
      "1099511627776\n",
      "4\n",
      "7\n",
      "5\n"
     ]
    }
   ],
   "source": [
    "x = 32\n",
    "y = 8\n",
    "\n",
    "# + - * / % ** // tipi di operazione\n",
    "\n",
    "print(x + y) #addizione\n",
    "print(x - y) #sottrazione\n",
    "print(x * y) #moltiplicazione\n",
    "print(x / y) #divisione (decimale)\n",
    "print(x % y) #mi da il resto (il modulo)\n",
    "print(x ** y) #potenza\n",
    "print(x // y) #risultato della divisione arrotondato per difetto\n",
    "\n",
    "#operatori di assegnamento\n",
    "x = 5\n",
    "x += 2 #corrisponde a x=x+2; esistono anche (-=) (*=) (/=)\n",
    "y = 7\n",
    "\n",
    "print(x)\n",
    "\n",
    "#min, max, abs (valore assoulto), pow (potenza)\n",
    "x = min(5, 10)\n",
    "\n",
    "print(x)"
   ]
  },
  {
   "cell_type": "markdown",
   "metadata": {},
   "source": [
    "tipi di dati (dati singoli)"
   ]
  },
  {
   "cell_type": "code",
   "execution_count": 13,
   "metadata": {},
   "outputs": [
    {
     "name": "stdout",
     "output_type": "stream",
     "text": [
      "<class 'int'>\n",
      "<class 'float'>\n",
      "<class 'str'>\n"
     ]
    }
   ],
   "source": [
    "# int \n",
    "x = 5\n",
    "# float\n",
    "y = 5.5\n",
    "# str \n",
    "z = \"impariamo python\"\n",
    "# bool\n",
    "is_online = True\n",
    "\n",
    "print(type(x))\n",
    "print(type(y))\n",
    "print(type(z))\n"
   ]
  },
  {
   "cell_type": "markdown",
   "metadata": {},
   "source": [
    "tipi di dati (collezioni di dati)"
   ]
  },
  {
   "cell_type": "code",
   "execution_count": 27,
   "metadata": {},
   "outputs": [
    {
     "name": "stdout",
     "output_type": "stream",
     "text": [
      "<class 'list'>\n"
     ]
    }
   ],
   "source": [
    "# list: x = [\"roma\", \"milano\", \"napoli\"]\n",
    "# tuple: x = (\"roma\", \"milano\", \"napoli\")\n",
    "# range: x = range(6)\n",
    "# dict: x = {\"nome\": \"Luca\", \"eta\": 25}\n",
    "# set: x = {\"roma\", \"milano\", \"napoli\"}\n",
    "\n",
    "x = [\"roma\", \"milano\", \"napoli\"]\n",
    "print(type(x))"
   ]
  },
  {
   "cell_type": "code",
   "execution_count": null,
   "metadata": {},
   "outputs": [],
   "source": []
  },
  {
   "cell_type": "markdown",
   "metadata": {},
   "source": [
    "CASTING"
   ]
  },
  {
   "cell_type": "code",
   "execution_count": 29,
   "metadata": {},
   "outputs": [
    {
     "name": "stdout",
     "output_type": "stream",
     "text": [
      "15\n",
      "10.0\n",
      "1234\n"
     ]
    }
   ],
   "source": [
    "x = 5\n",
    "y = int(\"10\")\n",
    "\n",
    "print(x+y)\n",
    "\n",
    "x = (float(10))\n",
    "print(x)\n",
    "\n",
    "x = \"12\"\n",
    "y = \"34\"\n",
    "print(x+y)"
   ]
  },
  {
   "cell_type": "markdown",
   "metadata": {},
   "source": [
    "LE STRINGHE"
   ]
  },
  {
   "cell_type": "code",
   "execution_count": 36,
   "metadata": {},
   "outputs": [
    {
     "name": "stdout",
     "output_type": "stream",
     "text": [
      "ciao ciao\n",
      " ciao sono Marco \n",
      "c\n",
      "17\n",
      "m\n",
      "a\n",
      "r\n",
      "c\n",
      "o\n",
      " ci\n",
      "iao sono Marco \n",
      " ciao\n",
      " CIAO SONO MARCO \n",
      " ciao sono marco \n",
      "ciao sono Marco\n",
      " ciao sono Simone \n",
      "['ciao', 'sono', 'Marco']\n"
     ]
    }
   ],
   "source": [
    "x = \"ciao\"\n",
    "y = 'ciao'\n",
    "\n",
    "print(x, y)\n",
    "\n",
    "#stringhe multi riga con \"\"\"\n",
    "x = \" ciao sono Marco \"\n",
    "\n",
    "print(x)\n",
    "\n",
    "print(x[1]) #si ricorda l'ultima lista e prende [n], anche lo spazio viene considerato un carattere\n",
    "print(len(x)) #quanto è lungo x (quanti caratteri forma la stringa x)\n",
    "\n",
    "for nome in \"marco\": #il ciclo for itera su ogni carattere nella stringa parola e ne stampa uno alla volta.\n",
    "    print(nome)\n",
    "\n",
    "print(x[:3]) #stampa il carattere fino a 3 NON COMPRESO (0, 1, 2)\n",
    "print(x[2:]) #stampa il carattere da 2 NON COMPRESO fino alla fine  \n",
    "print(x[0:5]) #stampa il carattere da 0 a 5 NON COMPRESO\n",
    "\n",
    "print(x.upper()) #maiuscolo\n",
    "print(x.lower()) #minucolo\n",
    "print(x.strip()) #rimuovere gli spazi vuoti o altri caratteri all'inizio e alla fine di una stringa.\n",
    "print(x.replace(\"Marco\", \"Simone\")) #sostituisce i caratteri\n",
    "print(x.split()) "
   ]
  },
  {
   "cell_type": "code",
   "execution_count": 4,
   "metadata": {},
   "outputs": [
    {
     "data": {
      "text/plain": [
       "True"
      ]
     },
     "execution_count": 4,
     "metadata": {},
     "output_type": "execute_result"
    }
   ],
   "source": [
    "\"xab\"<\"bchgf\" #costanti\n",
    "\"abc\" < \"abd\"\n"
   ]
  },
  {
   "cell_type": "markdown",
   "metadata": {},
   "source": [
    "come combinare stringhe e numeri; escape dei caratteri"
   ]
  },
  {
   "cell_type": "code",
   "execution_count": 62,
   "metadata": {},
   "outputs": [
    {
     "name": "stdout",
     "output_type": "stream",
     "text": [
      "ciao, sono Marco e sono nato il 180, peso 20 chili e sono alto 70 cm\n",
      "il mio streamer preferito è \"cicciogamer\"\n"
     ]
    }
   ],
   "source": [
    "presentazione = \"ciao, sono Marco e sono nato il {2}, peso {0} chili e sono alto {1} cm\"\n",
    "\n",
    "print(presentazione.format(20, 70, 180))\n",
    "\n",
    "prova1 = 'l\\'albero'\n",
    "prova2 = \"il mio streamer preferito è \\\"cicciogamer\\\"\"\n",
    "\n",
    "print(prova2)"
   ]
  },
  {
   "cell_type": "markdown",
   "metadata": {},
   "source": [
    "BOOLEAN (VERO E FALSO, IF)"
   ]
  },
  {
   "cell_type": "code",
   "execution_count": 80,
   "metadata": {},
   "outputs": [
    {
     "name": "stdout",
     "output_type": "stream",
     "text": [
      "False\n",
      "andare al supermercato\n"
     ]
    }
   ],
   "source": [
    "#if 15 > 10:\n",
    "#    print(\"maggiore\")\n",
    "#else: \n",
    "#    print(\"minore\")        \n",
    "\n",
    "print(bool(False))\n",
    "\n",
    "#pane = 0\n",
    "#if pane:\n",
    "#    print (\"comprare\")\n",
    "#else:\n",
    "#    print(\"non comprare\")    \n",
    "\n",
    "listaspesa = (\"pane\")\n",
    "if listaspesa:\n",
    "    print(\"andare al supermercato\")\n",
    "else:\n",
    "    print(\"non serve andare al supermercato\")"
   ]
  },
  {
   "cell_type": "markdown",
   "metadata": {},
   "source": [
    "gli IF"
   ]
  },
  {
   "cell_type": "code",
   "execution_count": 1,
   "metadata": {},
   "outputs": [
    {
     "name": "stdout",
     "output_type": "stream",
     "text": [
      "è maggiore di 10\n",
      "vero\n"
     ]
    }
   ],
   "source": [
    "x = 11\n",
    "\n",
    "if x < 10:\n",
    "    print(\"x è minore di 10\")\n",
    "\n",
    "\n",
    "#operatori di comparazione (==) (!=) (>=) (<=) (>) (<)\n",
    "\n",
    "if x == 10:\n",
    "    print(\"uguale a 10\")\n",
    "elif x < 10:\n",
    "    print(\"è minore di 10\") #la prima condizione che si verifica ha la priorià \n",
    "else: \n",
    "    print(\"è maggiore di 10\")\n",
    "\n",
    "\n",
    "#and -> le condizioni devono essere tutte verificate\n",
    "#or -> è sufficiente una condizione\n",
    "#not\n",
    "x = 11\n",
    "y = 5\n",
    "\n",
    "if not x == 10 or y == 10: \n",
    "    print(\"vero\")\n",
    "else:\n",
    "    print(\"falso\")\n"
   ]
  },
  {
   "cell_type": "markdown",
   "metadata": {},
   "source": [
    "FUNZIONI"
   ]
  },
  {
   "cell_type": "code",
   "execution_count": 14,
   "metadata": {},
   "outputs": [
    {
     "name": "stdout",
     "output_type": "stream",
     "text": [
      "benvenuto Marco, sei nato a Torre del Greco?\n"
     ]
    }
   ],
   "source": [
    "def funzione (nome, citta):\n",
    "    print(f\"benvenuto {nome}, sei nato a {citta}?\")\n",
    "\n",
    "funzione(citta=\"Torre del Greco\", nome=\"Marco\")"
   ]
  },
  {
   "cell_type": "code",
   "execution_count": 18,
   "metadata": {},
   "outputs": [
    {
     "name": "stdout",
     "output_type": "stream",
     "text": [
      "Ciao, marco\n"
     ]
    }
   ],
   "source": [
    "def saluta(nome, saluto=\"Ciao\"):\n",
    "    messaggio = saluto + \", \" + nome\n",
    "    print(messaggio)\n",
    "\n",
    "saluta(nome=\"marco\")"
   ]
  },
  {
   "cell_type": "code",
   "execution_count": 3,
   "metadata": {},
   "outputs": [
    {
     "name": "stdout",
     "output_type": "stream",
     "text": [
      "$240.0\n"
     ]
    }
   ],
   "source": [
    "def totale_da_pagare(conto, perc_mancia, perc_IVA):\n",
    "  totale = conto * (1 + 0.01*perc_mancia + 0.01*perc_IVA)\n",
    "  totale = round(totale, 2)\n",
    "  return totale \n",
    " # print(f\"Si prega di pagare ${totale}\")\n",
    "\n",
    "conto = input(\"Inserire il conto:\")\n",
    "conto = float(conto)\n",
    "perc_mancia = input(\"Quanta mancia vuoi dare?\")\n",
    "perc_mancia = float(perc_mancia)\n",
    "perc_IVA = input (\"Inserire IVA:\")\n",
    "perc_IVA = float(perc_IVA)\n",
    "\n",
    "totale = totale_da_pagare(conto, perc_mancia, perc_IVA)\n",
    "print(f\"${totale}\")\n",
    "\n"
   ]
  },
  {
   "cell_type": "markdown",
   "metadata": {},
   "source": [
    "In input quanti sono, dato uno scontrino, gli ordini che ho fatto, un input per ogni ordine e calcolare il totale"
   ]
  },
  {
   "cell_type": "code",
   "execution_count": 20,
   "metadata": {},
   "outputs": [
    {
     "name": "stdout",
     "output_type": "stream",
     "text": [
      "il prezzo totale degli ordini è: $70\n"
     ]
    }
   ],
   "source": [
    "num_ordini = int(input(f\"inserire il numero di ordini:\"))\n",
    "totale = 0\n",
    "\n",
    "for n in range (num_ordini):\n",
    "    prezzo_ordine = int(input(f\"inserire il prezzo: {n + 1}\"))\n",
    "    totale = totale + prezzo_ordine\n",
    "\n",
    "print(f\"il prezzo totale degli ordini è: ${totale}\")\n"
   ]
  },
  {
   "cell_type": "markdown",
   "metadata": {},
   "source": [
    "ESERCIZI CICLO FOR"
   ]
  },
  {
   "cell_type": "code",
   "execution_count": null,
   "metadata": {},
   "outputs": [],
   "source": [
    "# Scrivere un programma che utilizzi un loop for per stampare ogni elemento di una lista.\n",
    "\n",
    "lista_spesa_cibo = [\"pasta\", \"pane\", \"biscotti\", \"yogurt\", \"nutella\"]\n",
    "\n",
    "for cibo in lista_spesa_cibo:\n",
    "    print (cibo)"
   ]
  },
  {
   "cell_type": "code",
   "execution_count": null,
   "metadata": {},
   "outputs": [],
   "source": [
    "#Scrivere un programma che utilizzi un loop for per stampare tutti i numeri da 1 a 10.\n",
    "\n",
    "for numeri in range(1, 11):\n",
    "    print (numeri)"
   ]
  },
  {
   "cell_type": "code",
   "execution_count": null,
   "metadata": {},
   "outputs": [],
   "source": [
    "#Scrivere un programma che utilizzi un loop for per sommare tutti i numeri in una lista.\n",
    "\n",
    "numeri_da_sommare = [10, 4, 42, 69, 104, 17, 88]\n",
    "risultato = 0\n",
    "\n",
    "for numero in numeri_da_sommare:\n",
    "    risultato = numero + risultato\n",
    "\n",
    "print(\"la il risultato della somma è:\", risultato)"
   ]
  },
  {
   "cell_type": "code",
   "execution_count": null,
   "metadata": {},
   "outputs": [],
   "source": [
    "#Scrivere un programma che utilizzi un loop for per stampare tutti i numeri pari da 1 a 20.\n",
    "\n",
    "for num_pari in (range(2, 21, 2)):\n",
    "  print(num_pari)"
   ]
  },
  {
   "cell_type": "code",
   "execution_count": 62,
   "metadata": {},
   "outputs": [
    {
     "name": "stdout",
     "output_type": "stream",
     "text": [
      "M\n",
      "a\n",
      "r\n",
      "c\n",
      "o\n"
     ]
    }
   ],
   "source": [
    "#Scrivere un programma che utilizzi un loop for per stampare tutte le lettere di una stringa.\n",
    "\n",
    "for lettera in (\"Marco\"):\n",
    "    print (lettera)"
   ]
  },
  {
   "cell_type": "code",
   "execution_count": null,
   "metadata": {},
   "outputs": [],
   "source": [
    "#Scrivere un programma che utilizzi un loop for per stampare tutte le chiavi di un dizionario."
   ]
  },
  {
   "cell_type": "code",
   "execution_count": null,
   "metadata": {},
   "outputs": [],
   "source": [
    "#Scrivere un programma che utilizzi un loop for per stampare tutte le lettere di ogni stringa in una lista.\n",
    "\n",
    "lista_famiglia = [\"Mamma\", \"Papà\", \"Kiria\", \"Marco\", \"Simone\"]\n",
    "\n",
    "for nome in lista_famiglia:\n",
    "    for lettera in nome:\n",
    "        print (lettera)    "
   ]
  },
  {
   "cell_type": "code",
   "execution_count": 61,
   "metadata": {},
   "outputs": [
    {
     "name": "stdout",
     "output_type": "stream",
     "text": [
      "La lettera a compare 2 volte.\n"
     ]
    }
   ],
   "source": [
    "#Scrivere un programma che utilizzi un loop for per contare quante volte una lettera compare in una stringa.\n",
    "\n",
    "stringa = \"sono una stringa\"\n",
    "conteggio_o = 0\n",
    "\n",
    "for lettera in stringa:\n",
    "    if lettera == \"o\":\n",
    "        conteggio_o += 1\n",
    "\n",
    "print(\"La lettera a compare\", conteggio_o, \"volte.\")\n",
    "    \n"
   ]
  }
 ],
 "metadata": {
  "kernelspec": {
   "display_name": "Python 3",
   "language": "python",
   "name": "python3"
  },
  "language_info": {
   "codemirror_mode": {
    "name": "ipython",
    "version": 3
   },
   "file_extension": ".py",
   "mimetype": "text/x-python",
   "name": "python",
   "nbconvert_exporter": "python",
   "pygments_lexer": "ipython3",
   "version": "3.11.7"
  }
 },
 "nbformat": 4,
 "nbformat_minor": 2
}
